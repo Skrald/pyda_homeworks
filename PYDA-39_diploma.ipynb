{
 "cells": [
  {
   "cell_type": "markdown",
   "id": "9762964a",
   "metadata": {},
   "source": [
    "# Дипломная работа по курсу \"Python для анализа данных\"  \n",
    " Данные: опрос уровня удовлетворенности работой (Employee Satisfaction Index, ESI) сотрудников некой компании"
   ]
  },
  {
   "cell_type": "code",
   "execution_count": 1,
   "id": "06528c31",
   "metadata": {},
   "outputs": [],
   "source": [
    "# подключим нужные библиотеки\n",
    "import pandas as pd\n",
    "from pandas.api.types import CategoricalDtype\n",
    "import matplotlib.pyplot as plt\n",
    "import seaborn as sns\n",
    "import numpy as np\n",
    "import scipy.stats as st"
   ]
  },
  {
   "cell_type": "markdown",
   "id": "6e2c3620",
   "metadata": {},
   "source": [
    "___\n",
    "## Задание 1\n",
    "Загрузите файл HR.csv в pandas dataframe"
   ]
  },
  {
   "cell_type": "code",
   "execution_count": 2,
   "id": "23278c43",
   "metadata": {},
   "outputs": [],
   "source": [
    "url = 'https://drive.google.com/file/d/1INgo03nal-vwFJe7Lec5vOUtOwfJdUr1/view?usp=sharing'\n",
    "url = 'https://drive.google.com/uc?id=' + url.split('/')[-2] # форматируем ссылку для автоматической загрузки\n",
    "df_ESI = pd.read_csv(\n",
    "    url, \n",
    "    dtype={'salary':CategoricalDtype(categories=['low', 'medium', 'high'], ordered=True)}\n",
    ")"
   ]
  },
  {
   "cell_type": "code",
   "execution_count": 3,
   "id": "802cc271",
   "metadata": {},
   "outputs": [
    {
     "data": {
      "text/html": [
       "<div>\n",
       "<style scoped>\n",
       "    .dataframe tbody tr th:only-of-type {\n",
       "        vertical-align: middle;\n",
       "    }\n",
       "\n",
       "    .dataframe tbody tr th {\n",
       "        vertical-align: top;\n",
       "    }\n",
       "\n",
       "    .dataframe thead th {\n",
       "        text-align: right;\n",
       "    }\n",
       "</style>\n",
       "<table border=\"1\" class=\"dataframe\">\n",
       "  <thead>\n",
       "    <tr style=\"text-align: right;\">\n",
       "      <th></th>\n",
       "      <th>satisfaction_level</th>\n",
       "      <th>last_evaluation</th>\n",
       "      <th>number_project</th>\n",
       "      <th>average_montly_hours</th>\n",
       "      <th>time_spend_company</th>\n",
       "      <th>Work_accident</th>\n",
       "      <th>left</th>\n",
       "      <th>promotion_last_5years</th>\n",
       "      <th>department</th>\n",
       "      <th>salary</th>\n",
       "    </tr>\n",
       "  </thead>\n",
       "  <tbody>\n",
       "    <tr>\n",
       "      <th>0</th>\n",
       "      <td>0.38</td>\n",
       "      <td>0.53</td>\n",
       "      <td>2</td>\n",
       "      <td>157</td>\n",
       "      <td>3</td>\n",
       "      <td>0</td>\n",
       "      <td>1</td>\n",
       "      <td>0</td>\n",
       "      <td>sales</td>\n",
       "      <td>low</td>\n",
       "    </tr>\n",
       "    <tr>\n",
       "      <th>1</th>\n",
       "      <td>0.80</td>\n",
       "      <td>0.86</td>\n",
       "      <td>5</td>\n",
       "      <td>262</td>\n",
       "      <td>6</td>\n",
       "      <td>0</td>\n",
       "      <td>1</td>\n",
       "      <td>0</td>\n",
       "      <td>sales</td>\n",
       "      <td>medium</td>\n",
       "    </tr>\n",
       "    <tr>\n",
       "      <th>2</th>\n",
       "      <td>0.11</td>\n",
       "      <td>0.88</td>\n",
       "      <td>7</td>\n",
       "      <td>272</td>\n",
       "      <td>4</td>\n",
       "      <td>0</td>\n",
       "      <td>1</td>\n",
       "      <td>0</td>\n",
       "      <td>sales</td>\n",
       "      <td>medium</td>\n",
       "    </tr>\n",
       "    <tr>\n",
       "      <th>3</th>\n",
       "      <td>0.72</td>\n",
       "      <td>0.87</td>\n",
       "      <td>5</td>\n",
       "      <td>223</td>\n",
       "      <td>5</td>\n",
       "      <td>0</td>\n",
       "      <td>1</td>\n",
       "      <td>0</td>\n",
       "      <td>sales</td>\n",
       "      <td>low</td>\n",
       "    </tr>\n",
       "    <tr>\n",
       "      <th>4</th>\n",
       "      <td>0.37</td>\n",
       "      <td>0.52</td>\n",
       "      <td>2</td>\n",
       "      <td>159</td>\n",
       "      <td>3</td>\n",
       "      <td>0</td>\n",
       "      <td>1</td>\n",
       "      <td>0</td>\n",
       "      <td>sales</td>\n",
       "      <td>low</td>\n",
       "    </tr>\n",
       "  </tbody>\n",
       "</table>\n",
       "</div>"
      ],
      "text/plain": [
       "   satisfaction_level  last_evaluation  number_project  average_montly_hours  \\\n",
       "0                0.38             0.53               2                   157   \n",
       "1                0.80             0.86               5                   262   \n",
       "2                0.11             0.88               7                   272   \n",
       "3                0.72             0.87               5                   223   \n",
       "4                0.37             0.52               2                   159   \n",
       "\n",
       "   time_spend_company  Work_accident  left  promotion_last_5years department  \\\n",
       "0                   3              0     1                      0      sales   \n",
       "1                   6              0     1                      0      sales   \n",
       "2                   4              0     1                      0      sales   \n",
       "3                   5              0     1                      0      sales   \n",
       "4                   3              0     1                      0      sales   \n",
       "\n",
       "   salary  \n",
       "0     low  \n",
       "1  medium  \n",
       "2  medium  \n",
       "3     low  \n",
       "4     low  "
      ]
     },
     "execution_count": 3,
     "metadata": {},
     "output_type": "execute_result"
    }
   ],
   "source": [
    "# результат загрузки\n",
    "df_ESI.head()"
   ]
  },
  {
   "cell_type": "code",
   "execution_count": 4,
   "id": "ab7d76cf",
   "metadata": {},
   "outputs": [
    {
     "name": "stdout",
     "output_type": "stream",
     "text": [
      "<class 'pandas.core.frame.DataFrame'>\n",
      "RangeIndex: 14999 entries, 0 to 14998\n",
      "Data columns (total 10 columns):\n",
      " #   Column                 Non-Null Count  Dtype   \n",
      "---  ------                 --------------  -----   \n",
      " 0   satisfaction_level     14999 non-null  float64 \n",
      " 1   last_evaluation        14999 non-null  float64 \n",
      " 2   number_project         14999 non-null  int64   \n",
      " 3   average_montly_hours   14999 non-null  int64   \n",
      " 4   time_spend_company     14999 non-null  int64   \n",
      " 5   Work_accident          14999 non-null  int64   \n",
      " 6   left                   14999 non-null  int64   \n",
      " 7   promotion_last_5years  14999 non-null  int64   \n",
      " 8   department             14999 non-null  category\n",
      " 9   salary                 14999 non-null  category\n",
      "dtypes: category(2), float64(2), int64(6)\n",
      "memory usage: 967.4 KB\n"
     ]
    }
   ],
   "source": [
    "# убедимся, что данные разного типа и назначения кодированы корректно\n",
    "df_ESI['department'] = df_ESI.department.astype('category')\n",
    "df_ESI.info()"
   ]
  },
  {
   "cell_type": "markdown",
   "id": "d11ed83f",
   "metadata": {},
   "source": [
    "___\n",
    "## Задание 2\n",
    "Рассчитайте основные статистики для переменных (среднее,медиана,мода,мин/макс,сред.отклонение). "
   ]
  },
  {
   "cell_type": "code",
   "execution_count": 5,
   "id": "71f13dcf",
   "metadata": {},
   "outputs": [
    {
     "data": {
      "text/html": [
       "<div>\n",
       "<style scoped>\n",
       "    .dataframe tbody tr th:only-of-type {\n",
       "        vertical-align: middle;\n",
       "    }\n",
       "\n",
       "    .dataframe tbody tr th {\n",
       "        vertical-align: top;\n",
       "    }\n",
       "\n",
       "    .dataframe thead th {\n",
       "        text-align: right;\n",
       "    }\n",
       "</style>\n",
       "<table border=\"1\" class=\"dataframe\">\n",
       "  <thead>\n",
       "    <tr style=\"text-align: right;\">\n",
       "      <th></th>\n",
       "      <th>department</th>\n",
       "      <th>salary</th>\n",
       "    </tr>\n",
       "  </thead>\n",
       "  <tbody>\n",
       "    <tr>\n",
       "      <th>count</th>\n",
       "      <td>14999</td>\n",
       "      <td>14999</td>\n",
       "    </tr>\n",
       "    <tr>\n",
       "      <th>unique</th>\n",
       "      <td>10</td>\n",
       "      <td>3</td>\n",
       "    </tr>\n",
       "    <tr>\n",
       "      <th>top</th>\n",
       "      <td>sales</td>\n",
       "      <td>low</td>\n",
       "    </tr>\n",
       "    <tr>\n",
       "      <th>freq</th>\n",
       "      <td>4140</td>\n",
       "      <td>7316</td>\n",
       "    </tr>\n",
       "  </tbody>\n",
       "</table>\n",
       "</div>"
      ],
      "text/plain": [
       "       department salary\n",
       "count       14999  14999\n",
       "unique         10      3\n",
       "top         sales    low\n",
       "freq         4140   7316"
      ]
     },
     "execution_count": 5,
     "metadata": {},
     "output_type": "execute_result"
    }
   ],
   "source": [
    "# сформируем описательную статистику \n",
    "# отдельно для категориальных данных\n",
    "df_ESI.describe(include=['category'])"
   ]
  },
  {
   "cell_type": "code",
   "execution_count": 6,
   "id": "ed051078",
   "metadata": {},
   "outputs": [
    {
     "data": {
      "text/html": [
       "<div>\n",
       "<style scoped>\n",
       "    .dataframe tbody tr th:only-of-type {\n",
       "        vertical-align: middle;\n",
       "    }\n",
       "\n",
       "    .dataframe tbody tr th {\n",
       "        vertical-align: top;\n",
       "    }\n",
       "\n",
       "    .dataframe thead th {\n",
       "        text-align: right;\n",
       "    }\n",
       "</style>\n",
       "<table border=\"1\" class=\"dataframe\">\n",
       "  <thead>\n",
       "    <tr style=\"text-align: right;\">\n",
       "      <th></th>\n",
       "      <th>department</th>\n",
       "      <th>percent</th>\n",
       "    </tr>\n",
       "  </thead>\n",
       "  <tbody>\n",
       "    <tr>\n",
       "      <th>sales</th>\n",
       "      <td>4140</td>\n",
       "      <td>27.60</td>\n",
       "    </tr>\n",
       "    <tr>\n",
       "      <th>technical</th>\n",
       "      <td>2720</td>\n",
       "      <td>18.13</td>\n",
       "    </tr>\n",
       "    <tr>\n",
       "      <th>support</th>\n",
       "      <td>2229</td>\n",
       "      <td>14.86</td>\n",
       "    </tr>\n",
       "    <tr>\n",
       "      <th>IT</th>\n",
       "      <td>1227</td>\n",
       "      <td>8.18</td>\n",
       "    </tr>\n",
       "    <tr>\n",
       "      <th>product_mng</th>\n",
       "      <td>902</td>\n",
       "      <td>6.01</td>\n",
       "    </tr>\n",
       "    <tr>\n",
       "      <th>marketing</th>\n",
       "      <td>858</td>\n",
       "      <td>5.72</td>\n",
       "    </tr>\n",
       "    <tr>\n",
       "      <th>RandD</th>\n",
       "      <td>787</td>\n",
       "      <td>5.25</td>\n",
       "    </tr>\n",
       "    <tr>\n",
       "      <th>accounting</th>\n",
       "      <td>767</td>\n",
       "      <td>5.11</td>\n",
       "    </tr>\n",
       "    <tr>\n",
       "      <th>hr</th>\n",
       "      <td>739</td>\n",
       "      <td>4.93</td>\n",
       "    </tr>\n",
       "    <tr>\n",
       "      <th>management</th>\n",
       "      <td>630</td>\n",
       "      <td>4.20</td>\n",
       "    </tr>\n",
       "  </tbody>\n",
       "</table>\n",
       "</div>"
      ],
      "text/plain": [
       "             department  percent\n",
       "sales              4140    27.60\n",
       "technical          2720    18.13\n",
       "support            2229    14.86\n",
       "IT                 1227     8.18\n",
       "product_mng         902     6.01\n",
       "marketing           858     5.72\n",
       "RandD               787     5.25\n",
       "accounting          767     5.11\n",
       "hr                  739     4.93\n",
       "management          630     4.20"
      ]
     },
     "execution_count": 6,
     "metadata": {},
     "output_type": "execute_result"
    }
   ],
   "source": [
    "# отдельно выведем частоты для department \n",
    "# (номинальная категориальная переменная)\n",
    "desc_dep = pd.DataFrame(df_ESI.department.value_counts())\n",
    "desc_dep['percent'] = (\n",
    "    desc_dep['department'] / \n",
    "    desc_dep['department'].sum()\n",
    ").round(4) * 100\n",
    "desc_dep"
   ]
  },
  {
   "cell_type": "code",
   "execution_count": 7,
   "id": "d0021add",
   "metadata": {},
   "outputs": [
    {
     "data": {
      "text/html": [
       "<div>\n",
       "<style scoped>\n",
       "    .dataframe tbody tr th:only-of-type {\n",
       "        vertical-align: middle;\n",
       "    }\n",
       "\n",
       "    .dataframe tbody tr th {\n",
       "        vertical-align: top;\n",
       "    }\n",
       "\n",
       "    .dataframe thead th {\n",
       "        text-align: right;\n",
       "    }\n",
       "</style>\n",
       "<table border=\"1\" class=\"dataframe\">\n",
       "  <thead>\n",
       "    <tr style=\"text-align: right;\">\n",
       "      <th></th>\n",
       "      <th>salary</th>\n",
       "      <th>percent</th>\n",
       "    </tr>\n",
       "  </thead>\n",
       "  <tbody>\n",
       "    <tr>\n",
       "      <th>low</th>\n",
       "      <td>7316</td>\n",
       "      <td>48.78</td>\n",
       "    </tr>\n",
       "    <tr>\n",
       "      <th>medium</th>\n",
       "      <td>6446</td>\n",
       "      <td>42.98</td>\n",
       "    </tr>\n",
       "    <tr>\n",
       "      <th>high</th>\n",
       "      <td>1237</td>\n",
       "      <td>8.25</td>\n",
       "    </tr>\n",
       "  </tbody>\n",
       "</table>\n",
       "</div>"
      ],
      "text/plain": [
       "        salary  percent\n",
       "low       7316    48.78\n",
       "medium    6446    42.98\n",
       "high      1237     8.25"
      ]
     },
     "execution_count": 7,
     "metadata": {},
     "output_type": "execute_result"
    }
   ],
   "source": [
    "# отдельно выведем частоты для salary \n",
    "# (порядковая категориальная переменная)\n",
    "desc_sal = pd.DataFrame(df_ESI.salary.value_counts())\n",
    "desc_sal['percent'] = (\n",
    "    desc_sal['salary'] / \n",
    "    desc_sal['salary'].sum()\n",
    ").round(4) * 100\n",
    "desc_sal"
   ]
  },
  {
   "cell_type": "code",
   "execution_count": 8,
   "id": "b7911dad",
   "metadata": {},
   "outputs": [
    {
     "data": {
      "text/html": [
       "<div>\n",
       "<style scoped>\n",
       "    .dataframe tbody tr th:only-of-type {\n",
       "        vertical-align: middle;\n",
       "    }\n",
       "\n",
       "    .dataframe tbody tr th {\n",
       "        vertical-align: top;\n",
       "    }\n",
       "\n",
       "    .dataframe thead th {\n",
       "        text-align: right;\n",
       "    }\n",
       "</style>\n",
       "<table border=\"1\" class=\"dataframe\">\n",
       "  <thead>\n",
       "    <tr style=\"text-align: right;\">\n",
       "      <th></th>\n",
       "      <th>satisfaction_level</th>\n",
       "      <th>last_evaluation</th>\n",
       "      <th>number_project</th>\n",
       "      <th>average_montly_hours</th>\n",
       "      <th>time_spend_company</th>\n",
       "      <th>Work_accident</th>\n",
       "      <th>left</th>\n",
       "      <th>promotion_last_5years</th>\n",
       "    </tr>\n",
       "  </thead>\n",
       "  <tbody>\n",
       "    <tr>\n",
       "      <th>count</th>\n",
       "      <td>14999.00</td>\n",
       "      <td>14999.00</td>\n",
       "      <td>14999.00</td>\n",
       "      <td>14999.00</td>\n",
       "      <td>14999.00</td>\n",
       "      <td>14999.00</td>\n",
       "      <td>14999.00</td>\n",
       "      <td>14999.00</td>\n",
       "    </tr>\n",
       "    <tr>\n",
       "      <th>mean</th>\n",
       "      <td>0.61</td>\n",
       "      <td>0.72</td>\n",
       "      <td>3.80</td>\n",
       "      <td>201.05</td>\n",
       "      <td>3.50</td>\n",
       "      <td>0.14</td>\n",
       "      <td>0.24</td>\n",
       "      <td>0.02</td>\n",
       "    </tr>\n",
       "    <tr>\n",
       "      <th>std</th>\n",
       "      <td>0.25</td>\n",
       "      <td>0.17</td>\n",
       "      <td>1.23</td>\n",
       "      <td>49.94</td>\n",
       "      <td>1.46</td>\n",
       "      <td>0.35</td>\n",
       "      <td>0.43</td>\n",
       "      <td>0.14</td>\n",
       "    </tr>\n",
       "    <tr>\n",
       "      <th>min</th>\n",
       "      <td>0.09</td>\n",
       "      <td>0.36</td>\n",
       "      <td>2.00</td>\n",
       "      <td>96.00</td>\n",
       "      <td>2.00</td>\n",
       "      <td>0.00</td>\n",
       "      <td>0.00</td>\n",
       "      <td>0.00</td>\n",
       "    </tr>\n",
       "    <tr>\n",
       "      <th>25%</th>\n",
       "      <td>0.44</td>\n",
       "      <td>0.56</td>\n",
       "      <td>3.00</td>\n",
       "      <td>156.00</td>\n",
       "      <td>3.00</td>\n",
       "      <td>0.00</td>\n",
       "      <td>0.00</td>\n",
       "      <td>0.00</td>\n",
       "    </tr>\n",
       "    <tr>\n",
       "      <th>50%</th>\n",
       "      <td>0.64</td>\n",
       "      <td>0.72</td>\n",
       "      <td>4.00</td>\n",
       "      <td>200.00</td>\n",
       "      <td>3.00</td>\n",
       "      <td>0.00</td>\n",
       "      <td>0.00</td>\n",
       "      <td>0.00</td>\n",
       "    </tr>\n",
       "    <tr>\n",
       "      <th>75%</th>\n",
       "      <td>0.82</td>\n",
       "      <td>0.87</td>\n",
       "      <td>5.00</td>\n",
       "      <td>245.00</td>\n",
       "      <td>4.00</td>\n",
       "      <td>0.00</td>\n",
       "      <td>0.00</td>\n",
       "      <td>0.00</td>\n",
       "    </tr>\n",
       "    <tr>\n",
       "      <th>max</th>\n",
       "      <td>1.00</td>\n",
       "      <td>1.00</td>\n",
       "      <td>7.00</td>\n",
       "      <td>310.00</td>\n",
       "      <td>10.00</td>\n",
       "      <td>1.00</td>\n",
       "      <td>1.00</td>\n",
       "      <td>1.00</td>\n",
       "    </tr>\n",
       "  </tbody>\n",
       "</table>\n",
       "</div>"
      ],
      "text/plain": [
       "       satisfaction_level  last_evaluation  number_project  \\\n",
       "count            14999.00         14999.00        14999.00   \n",
       "mean                 0.61             0.72            3.80   \n",
       "std                  0.25             0.17            1.23   \n",
       "min                  0.09             0.36            2.00   \n",
       "25%                  0.44             0.56            3.00   \n",
       "50%                  0.64             0.72            4.00   \n",
       "75%                  0.82             0.87            5.00   \n",
       "max                  1.00             1.00            7.00   \n",
       "\n",
       "       average_montly_hours  time_spend_company  Work_accident      left  \\\n",
       "count              14999.00            14999.00       14999.00  14999.00   \n",
       "mean                 201.05                3.50           0.14      0.24   \n",
       "std                   49.94                1.46           0.35      0.43   \n",
       "min                   96.00                2.00           0.00      0.00   \n",
       "25%                  156.00                3.00           0.00      0.00   \n",
       "50%                  200.00                3.00           0.00      0.00   \n",
       "75%                  245.00                4.00           0.00      0.00   \n",
       "max                  310.00               10.00           1.00      1.00   \n",
       "\n",
       "       promotion_last_5years  \n",
       "count               14999.00  \n",
       "mean                    0.02  \n",
       "std                     0.14  \n",
       "min                     0.00  \n",
       "25%                     0.00  \n",
       "50%                     0.00  \n",
       "75%                     0.00  \n",
       "max                     1.00  "
      ]
     },
     "execution_count": 8,
     "metadata": {},
     "output_type": "execute_result"
    }
   ],
   "source": [
    "# выведем стандартную описательную статистику\n",
    "# для количественных данных (включены по умолчанию)\n",
    "df_ESI.describe().round(2)"
   ]
  },
  {
   "cell_type": "markdown",
   "id": "178b5f6c",
   "metadata": {},
   "source": [
    "___\n",
    "## Задание 3\n",
    "Рассчитайте и визуализируйте корреляционную матрицу для количественных переменных.  \n",
    "Определите две самые скоррелированные и две наименее скоррелированные переменные.  "
   ]
  },
  {
   "cell_type": "code",
   "execution_count": 9,
   "id": "a059d5ed",
   "metadata": {},
   "outputs": [
    {
     "data": {
      "text/html": [
       "<style type=\"text/css\">\n",
       "#T_b23a8_row0_col0, #T_b23a8_row1_col1, #T_b23a8_row2_col2, #T_b23a8_row3_col3, #T_b23a8_row4_col4, #T_b23a8_row5_col5, #T_b23a8_row6_col6, #T_b23a8_row7_col7 {\n",
       "  background-color: #08306b;\n",
       "  color: #f1f1f1;\n",
       "}\n",
       "#T_b23a8_row0_col1 {\n",
       "  background-color: #e1edf8;\n",
       "  color: #000000;\n",
       "}\n",
       "#T_b23a8_row0_col2, #T_b23a8_row0_col3, #T_b23a8_row0_col4, #T_b23a8_row0_col6, #T_b23a8_row5_col1, #T_b23a8_row6_col0, #T_b23a8_row6_col5, #T_b23a8_row6_col7, #T_b23a8_row7_col1 {\n",
       "  background-color: #f7fbff;\n",
       "  color: #000000;\n",
       "}\n",
       "#T_b23a8_row0_col5 {\n",
       "  background-color: #d3e3f3;\n",
       "  color: #000000;\n",
       "}\n",
       "#T_b23a8_row0_col7 {\n",
       "  background-color: #e7f0fa;\n",
       "  color: #000000;\n",
       "}\n",
       "#T_b23a8_row1_col0, #T_b23a8_row1_col3, #T_b23a8_row2_col1 {\n",
       "  background-color: #a5cde3;\n",
       "  color: #000000;\n",
       "}\n",
       "#T_b23a8_row1_col2 {\n",
       "  background-color: #87bddc;\n",
       "  color: #000000;\n",
       "}\n",
       "#T_b23a8_row1_col4 {\n",
       "  background-color: #cde0f1;\n",
       "  color: #000000;\n",
       "}\n",
       "#T_b23a8_row1_col5, #T_b23a8_row3_col5 {\n",
       "  background-color: #deebf7;\n",
       "  color: #000000;\n",
       "}\n",
       "#T_b23a8_row1_col6 {\n",
       "  background-color: #bcd7eb;\n",
       "  color: #000000;\n",
       "}\n",
       "#T_b23a8_row1_col7 {\n",
       "  background-color: #eef5fc;\n",
       "  color: #000000;\n",
       "}\n",
       "#T_b23a8_row2_col0 {\n",
       "  background-color: #d4e4f4;\n",
       "  color: #000000;\n",
       "}\n",
       "#T_b23a8_row2_col3 {\n",
       "  background-color: #89bedc;\n",
       "  color: #000000;\n",
       "}\n",
       "#T_b23a8_row2_col4 {\n",
       "  background-color: #bfd8ed;\n",
       "  color: #000000;\n",
       "}\n",
       "#T_b23a8_row2_col5 {\n",
       "  background-color: #ddeaf7;\n",
       "  color: #000000;\n",
       "}\n",
       "#T_b23a8_row2_col6 {\n",
       "  background-color: #b8d5ea;\n",
       "  color: #000000;\n",
       "}\n",
       "#T_b23a8_row2_col7 {\n",
       "  background-color: #edf4fc;\n",
       "  color: #000000;\n",
       "}\n",
       "#T_b23a8_row3_col0 {\n",
       "  background-color: #c2d9ee;\n",
       "  color: #000000;\n",
       "}\n",
       "#T_b23a8_row3_col1 {\n",
       "  background-color: #a8cee4;\n",
       "  color: #000000;\n",
       "}\n",
       "#T_b23a8_row3_col2 {\n",
       "  background-color: #6fb0d7;\n",
       "  color: #f1f1f1;\n",
       "}\n",
       "#T_b23a8_row3_col4, #T_b23a8_row4_col0 {\n",
       "  background-color: #cee0f2;\n",
       "  color: #000000;\n",
       "}\n",
       "#T_b23a8_row3_col6 {\n",
       "  background-color: #add0e6;\n",
       "  color: #000000;\n",
       "}\n",
       "#T_b23a8_row3_col7 {\n",
       "  background-color: #ecf4fb;\n",
       "  color: #000000;\n",
       "}\n",
       "#T_b23a8_row4_col1 {\n",
       "  background-color: #dce9f6;\n",
       "  color: #000000;\n",
       "}\n",
       "#T_b23a8_row4_col2, #T_b23a8_row7_col0 {\n",
       "  background-color: #b7d4ea;\n",
       "  color: #000000;\n",
       "}\n",
       "#T_b23a8_row4_col3, #T_b23a8_row6_col2 {\n",
       "  background-color: #dae8f6;\n",
       "  color: #000000;\n",
       "}\n",
       "#T_b23a8_row4_col5 {\n",
       "  background-color: #dceaf6;\n",
       "  color: #000000;\n",
       "}\n",
       "#T_b23a8_row4_col6 {\n",
       "  background-color: #9ac8e0;\n",
       "  color: #000000;\n",
       "}\n",
       "#T_b23a8_row4_col7 {\n",
       "  background-color: #dfebf7;\n",
       "  color: #000000;\n",
       "}\n",
       "#T_b23a8_row5_col0 {\n",
       "  background-color: #afd1e7;\n",
       "  color: #000000;\n",
       "}\n",
       "#T_b23a8_row5_col2, #T_b23a8_row7_col2 {\n",
       "  background-color: #dfecf7;\n",
       "  color: #000000;\n",
       "}\n",
       "#T_b23a8_row5_col3 {\n",
       "  background-color: #f5fafe;\n",
       "  color: #000000;\n",
       "}\n",
       "#T_b23a8_row5_col4 {\n",
       "  background-color: #e5eff9;\n",
       "  color: #000000;\n",
       "}\n",
       "#T_b23a8_row5_col6 {\n",
       "  background-color: #d6e5f4;\n",
       "  color: #000000;\n",
       "}\n",
       "#T_b23a8_row5_col7 {\n",
       "  background-color: #e4eff9;\n",
       "  color: #000000;\n",
       "}\n",
       "#T_b23a8_row6_col1 {\n",
       "  background-color: #f5f9fe;\n",
       "  color: #000000;\n",
       "}\n",
       "#T_b23a8_row6_col3 {\n",
       "  background-color: #e6f0f9;\n",
       "  color: #000000;\n",
       "}\n",
       "#T_b23a8_row6_col4 {\n",
       "  background-color: #cbdef1;\n",
       "  color: #000000;\n",
       "}\n",
       "#T_b23a8_row7_col3 {\n",
       "  background-color: #f4f9fe;\n",
       "  color: #000000;\n",
       "}\n",
       "#T_b23a8_row7_col4 {\n",
       "  background-color: #d9e7f5;\n",
       "  color: #000000;\n",
       "}\n",
       "#T_b23a8_row7_col5 {\n",
       "  background-color: #d6e6f4;\n",
       "  color: #000000;\n",
       "}\n",
       "#T_b23a8_row7_col6 {\n",
       "  background-color: #c9ddf0;\n",
       "  color: #000000;\n",
       "}\n",
       "</style>\n",
       "<table id=\"T_b23a8\">\n",
       "  <thead>\n",
       "    <tr>\n",
       "      <th class=\"blank level0\" >&nbsp;</th>\n",
       "      <th id=\"T_b23a8_level0_col0\" class=\"col_heading level0 col0\" >satisfaction_level</th>\n",
       "      <th id=\"T_b23a8_level0_col1\" class=\"col_heading level0 col1\" >last_evaluation</th>\n",
       "      <th id=\"T_b23a8_level0_col2\" class=\"col_heading level0 col2\" >number_project</th>\n",
       "      <th id=\"T_b23a8_level0_col3\" class=\"col_heading level0 col3\" >average_montly_hours</th>\n",
       "      <th id=\"T_b23a8_level0_col4\" class=\"col_heading level0 col4\" >time_spend_company</th>\n",
       "      <th id=\"T_b23a8_level0_col5\" class=\"col_heading level0 col5\" >Work_accident</th>\n",
       "      <th id=\"T_b23a8_level0_col6\" class=\"col_heading level0 col6\" >left</th>\n",
       "      <th id=\"T_b23a8_level0_col7\" class=\"col_heading level0 col7\" >promotion_last_5years</th>\n",
       "    </tr>\n",
       "  </thead>\n",
       "  <tbody>\n",
       "    <tr>\n",
       "      <th id=\"T_b23a8_level0_row0\" class=\"row_heading level0 row0\" >satisfaction_level</th>\n",
       "      <td id=\"T_b23a8_row0_col0\" class=\"data row0 col0\" >1.00</td>\n",
       "      <td id=\"T_b23a8_row0_col1\" class=\"data row0 col1\" >0.11</td>\n",
       "      <td id=\"T_b23a8_row0_col2\" class=\"data row0 col2\" >-0.14</td>\n",
       "      <td id=\"T_b23a8_row0_col3\" class=\"data row0 col3\" >-0.02</td>\n",
       "      <td id=\"T_b23a8_row0_col4\" class=\"data row0 col4\" >-0.10</td>\n",
       "      <td id=\"T_b23a8_row0_col5\" class=\"data row0 col5\" >0.06</td>\n",
       "      <td id=\"T_b23a8_row0_col6\" class=\"data row0 col6\" >-0.39</td>\n",
       "      <td id=\"T_b23a8_row0_col7\" class=\"data row0 col7\" >0.03</td>\n",
       "    </tr>\n",
       "    <tr>\n",
       "      <th id=\"T_b23a8_level0_row1\" class=\"row_heading level0 row1\" >last_evaluation</th>\n",
       "      <td id=\"T_b23a8_row1_col0\" class=\"data row1 col0\" >0.11</td>\n",
       "      <td id=\"T_b23a8_row1_col1\" class=\"data row1 col1\" >1.00</td>\n",
       "      <td id=\"T_b23a8_row1_col2\" class=\"data row1 col2\" >0.35</td>\n",
       "      <td id=\"T_b23a8_row1_col3\" class=\"data row1 col3\" >0.34</td>\n",
       "      <td id=\"T_b23a8_row1_col4\" class=\"data row1 col4\" >0.13</td>\n",
       "      <td id=\"T_b23a8_row1_col5\" class=\"data row1 col5\" >-0.01</td>\n",
       "      <td id=\"T_b23a8_row1_col6\" class=\"data row1 col6\" >0.01</td>\n",
       "      <td id=\"T_b23a8_row1_col7\" class=\"data row1 col7\" >-0.01</td>\n",
       "    </tr>\n",
       "    <tr>\n",
       "      <th id=\"T_b23a8_level0_row2\" class=\"row_heading level0 row2\" >number_project</th>\n",
       "      <td id=\"T_b23a8_row2_col0\" class=\"data row2 col0\" >-0.14</td>\n",
       "      <td id=\"T_b23a8_row2_col1\" class=\"data row2 col1\" >0.35</td>\n",
       "      <td id=\"T_b23a8_row2_col2\" class=\"data row2 col2\" >1.00</td>\n",
       "      <td id=\"T_b23a8_row2_col3\" class=\"data row2 col3\" >0.42</td>\n",
       "      <td id=\"T_b23a8_row2_col4\" class=\"data row2 col4\" >0.20</td>\n",
       "      <td id=\"T_b23a8_row2_col5\" class=\"data row2 col5\" >-0.00</td>\n",
       "      <td id=\"T_b23a8_row2_col6\" class=\"data row2 col6\" >0.02</td>\n",
       "      <td id=\"T_b23a8_row2_col7\" class=\"data row2 col7\" >-0.01</td>\n",
       "    </tr>\n",
       "    <tr>\n",
       "      <th id=\"T_b23a8_level0_row3\" class=\"row_heading level0 row3\" >average_montly_hours</th>\n",
       "      <td id=\"T_b23a8_row3_col0\" class=\"data row3 col0\" >-0.02</td>\n",
       "      <td id=\"T_b23a8_row3_col1\" class=\"data row3 col1\" >0.34</td>\n",
       "      <td id=\"T_b23a8_row3_col2\" class=\"data row3 col2\" >0.42</td>\n",
       "      <td id=\"T_b23a8_row3_col3\" class=\"data row3 col3\" >1.00</td>\n",
       "      <td id=\"T_b23a8_row3_col4\" class=\"data row3 col4\" >0.13</td>\n",
       "      <td id=\"T_b23a8_row3_col5\" class=\"data row3 col5\" >-0.01</td>\n",
       "      <td id=\"T_b23a8_row3_col6\" class=\"data row3 col6\" >0.07</td>\n",
       "      <td id=\"T_b23a8_row3_col7\" class=\"data row3 col7\" >-0.00</td>\n",
       "    </tr>\n",
       "    <tr>\n",
       "      <th id=\"T_b23a8_level0_row4\" class=\"row_heading level0 row4\" >time_spend_company</th>\n",
       "      <td id=\"T_b23a8_row4_col0\" class=\"data row4 col0\" >-0.10</td>\n",
       "      <td id=\"T_b23a8_row4_col1\" class=\"data row4 col1\" >0.13</td>\n",
       "      <td id=\"T_b23a8_row4_col2\" class=\"data row4 col2\" >0.20</td>\n",
       "      <td id=\"T_b23a8_row4_col3\" class=\"data row4 col3\" >0.13</td>\n",
       "      <td id=\"T_b23a8_row4_col4\" class=\"data row4 col4\" >1.00</td>\n",
       "      <td id=\"T_b23a8_row4_col5\" class=\"data row4 col5\" >0.00</td>\n",
       "      <td id=\"T_b23a8_row4_col6\" class=\"data row4 col6\" >0.14</td>\n",
       "      <td id=\"T_b23a8_row4_col7\" class=\"data row4 col7\" >0.07</td>\n",
       "    </tr>\n",
       "    <tr>\n",
       "      <th id=\"T_b23a8_level0_row5\" class=\"row_heading level0 row5\" >Work_accident</th>\n",
       "      <td id=\"T_b23a8_row5_col0\" class=\"data row5 col0\" >0.06</td>\n",
       "      <td id=\"T_b23a8_row5_col1\" class=\"data row5 col1\" >-0.01</td>\n",
       "      <td id=\"T_b23a8_row5_col2\" class=\"data row5 col2\" >-0.00</td>\n",
       "      <td id=\"T_b23a8_row5_col3\" class=\"data row5 col3\" >-0.01</td>\n",
       "      <td id=\"T_b23a8_row5_col4\" class=\"data row5 col4\" >0.00</td>\n",
       "      <td id=\"T_b23a8_row5_col5\" class=\"data row5 col5\" >1.00</td>\n",
       "      <td id=\"T_b23a8_row5_col6\" class=\"data row5 col6\" >-0.15</td>\n",
       "      <td id=\"T_b23a8_row5_col7\" class=\"data row5 col7\" >0.04</td>\n",
       "    </tr>\n",
       "    <tr>\n",
       "      <th id=\"T_b23a8_level0_row6\" class=\"row_heading level0 row6\" >left</th>\n",
       "      <td id=\"T_b23a8_row6_col0\" class=\"data row6 col0\" >-0.39</td>\n",
       "      <td id=\"T_b23a8_row6_col1\" class=\"data row6 col1\" >0.01</td>\n",
       "      <td id=\"T_b23a8_row6_col2\" class=\"data row6 col2\" >0.02</td>\n",
       "      <td id=\"T_b23a8_row6_col3\" class=\"data row6 col3\" >0.07</td>\n",
       "      <td id=\"T_b23a8_row6_col4\" class=\"data row6 col4\" >0.14</td>\n",
       "      <td id=\"T_b23a8_row6_col5\" class=\"data row6 col5\" >-0.15</td>\n",
       "      <td id=\"T_b23a8_row6_col6\" class=\"data row6 col6\" >1.00</td>\n",
       "      <td id=\"T_b23a8_row6_col7\" class=\"data row6 col7\" >-0.06</td>\n",
       "    </tr>\n",
       "    <tr>\n",
       "      <th id=\"T_b23a8_level0_row7\" class=\"row_heading level0 row7\" >promotion_last_5years</th>\n",
       "      <td id=\"T_b23a8_row7_col0\" class=\"data row7 col0\" >0.03</td>\n",
       "      <td id=\"T_b23a8_row7_col1\" class=\"data row7 col1\" >-0.01</td>\n",
       "      <td id=\"T_b23a8_row7_col2\" class=\"data row7 col2\" >-0.01</td>\n",
       "      <td id=\"T_b23a8_row7_col3\" class=\"data row7 col3\" >-0.00</td>\n",
       "      <td id=\"T_b23a8_row7_col4\" class=\"data row7 col4\" >0.07</td>\n",
       "      <td id=\"T_b23a8_row7_col5\" class=\"data row7 col5\" >0.04</td>\n",
       "      <td id=\"T_b23a8_row7_col6\" class=\"data row7 col6\" >-0.06</td>\n",
       "      <td id=\"T_b23a8_row7_col7\" class=\"data row7 col7\" >1.00</td>\n",
       "    </tr>\n",
       "  </tbody>\n",
       "</table>\n"
      ],
      "text/plain": [
       "<pandas.io.formats.style.Styler at 0x1b83d9e3eb0>"
      ]
     },
     "execution_count": 9,
     "metadata": {},
     "output_type": "execute_result"
    }
   ],
   "source": [
    "# аналогично описательной статистике, \n",
    "# матрица корреляций по умолчанию описывает \n",
    "# только количественные переменные\n",
    "df_corrmat = df_ESI.corr()\n",
    "df_corrmat.style.background_gradient(cmap='Blues').format('{:.2f}')"
   ]
  },
  {
   "cell_type": "code",
   "execution_count": 10,
   "id": "f56d4584",
   "metadata": {},
   "outputs": [
    {
     "data": {
      "image/png": "[encoded data removed]",
      "text/plain": [
       "<Figure size 640x480 with 2 Axes>"
      ]
     },
     "metadata": {},
     "output_type": "display_data"
    }
   ],
   "source": [
    "# визуализация корреляционной матрицы\n",
    "sns.set(font_scale=1.25)\n",
    "hm = sns.heatmap(\n",
    "    df_corrmat, \n",
    "    cmap='coolwarm',\n",
    "    cbar=True, \n",
    "    annot=True, \n",
    "    square=True, \n",
    "    mask = np.triu(df_corrmat), # поскольку матрица симметрична относительно главной диагонали\n",
    "    fmt='.3f', \n",
    "    annot_kws={'size': 10}, \n",
    "    yticklabels=df_corrmat.index, xticklabels=df_corrmat.index\n",
    ")\n",
    "plt.show()"
   ]
  },
  {
   "cell_type": "markdown",
   "id": "834d91fa",
   "metadata": {},
   "source": [
    "### Выводы: \n",
    "1) пара наиболее скоррелированных переменных - _*average_monthly_hours*_ & _*number_project*_  \n",
    "То есть наблюдается умеренная прямая статистическая связь между количеством выполненных проектов и количеством проведенных на рабочем месте часов, что может свидетельствовать о неблагоприятном явлении: сотрудники вынуждены дополнительно вкладывать личные ресурсы времени ради своевременного завершения этапов проектов. Видно, что оба этих показателя значимо и примерно одинаково повлияли на исследуемый признак по итогам предыдущего опроса, а сейчас их роль невелика.  \n",
    "\n",
    "2) ни одна пара переменных не показала уровень взаимосвязи выше умеренного  \n",
    "\n",
    "3) пара наименее скоррелированных переменных - _*work_accident*_ & _*time_spend_company*_ (при том, что последняя взаимосвязана со всеми остальными слабо или умеренно)  \n",
    "То есть практически отсутствует связь между стажем работы в данной компании и фактами несчастных случаев - скорее всего, это просто обусловлено спецификой деятельности (например, компания не работает в сфере с повышенным риском травматизма и там обеспечены нормальные условия труда)  \n",
    "\n",
    "4) есть переменная, у которой практически отсутствует (не достигает уровня слабой) связь со всеми прочими - это _*promotion_last_5years*_  \n",
    "То есть факты повышения сотрудников предположительно не влияют на прочие факторы исследования и не могут быть ими обусловлены (в целом по имеющимся данным). Повышение сотрудников, вероятно, вызвано иными причинами (если не предполагать вообще случайный характер повышения, что было бы неестественно).  \n",
    "\n",
    "5) correlation does not imply causation  \n",
    "Как всегда, имеем в виду =)"
   ]
  },
  {
   "cell_type": "markdown",
   "id": "6c4038c8",
   "metadata": {},
   "source": [
    "___\n",
    "## Задание 4\n",
    "Рассчитайте сколько сотрудников работает в каждом департаменте. \n"
   ]
  },
  {
   "cell_type": "code",
   "execution_count": 11,
   "id": "cf98c576",
   "metadata": {},
   "outputs": [
    {
     "data": {
      "text/plain": [
       "sales          3126\n",
       "technical      2023\n",
       "support        1674\n",
       "IT              954\n",
       "product_mng     704\n",
       "RandD           666\n",
       "marketing       655\n",
       "accounting      563\n",
       "management      539\n",
       "hr              524\n",
       "Name: department, dtype: int64"
      ]
     },
     "execution_count": 11,
     "metadata": {},
     "output_type": "execute_result"
    }
   ],
   "source": [
    "df_ESI_current = df_ESI[df_ESI['left'] == 0]\n",
    "df_ESI_current.department.value_counts()"
   ]
  },
  {
   "cell_type": "markdown",
   "id": "484659b0",
   "metadata": {},
   "source": [
    "___\n",
    "## Задание 5\n",
    "Показать распределение сотрудников по зарплатам.\n"
   ]
  },
  {
   "cell_type": "code",
   "execution_count": 12,
   "id": "177ff3b9",
   "metadata": {},
   "outputs": [
    {
     "data": {
      "text/html": [
       "<div>\n",
       "<style scoped>\n",
       "    .dataframe tbody tr th:only-of-type {\n",
       "        vertical-align: middle;\n",
       "    }\n",
       "\n",
       "    .dataframe tbody tr th {\n",
       "        vertical-align: top;\n",
       "    }\n",
       "\n",
       "    .dataframe thead th {\n",
       "        text-align: right;\n",
       "    }\n",
       "</style>\n",
       "<table border=\"1\" class=\"dataframe\">\n",
       "  <thead>\n",
       "    <tr style=\"text-align: right;\">\n",
       "      <th></th>\n",
       "      <th>department</th>\n",
       "    </tr>\n",
       "    <tr>\n",
       "      <th>salary</th>\n",
       "      <th></th>\n",
       "    </tr>\n",
       "  </thead>\n",
       "  <tbody>\n",
       "    <tr>\n",
       "      <th>low</th>\n",
       "      <td>7316</td>\n",
       "    </tr>\n",
       "    <tr>\n",
       "      <th>medium</th>\n",
       "      <td>6446</td>\n",
       "    </tr>\n",
       "    <tr>\n",
       "      <th>high</th>\n",
       "      <td>1237</td>\n",
       "    </tr>\n",
       "  </tbody>\n",
       "</table>\n",
       "</div>"
      ],
      "text/plain": [
       "        department\n",
       "salary            \n",
       "low           7316\n",
       "medium        6446\n",
       "high          1237"
      ]
     },
     "execution_count": 12,
     "metadata": {},
     "output_type": "execute_result"
    }
   ],
   "source": [
    "df_ESI_salaries = df_ESI[['department', 'salary']]\n",
    "df_ESI_salary_dist = df_ESI_salaries.groupby('salary')\n",
    "df_ESI_salary_dist.count()"
   ]
  },
  {
   "cell_type": "code",
   "execution_count": 13,
   "id": "3d4ab519",
   "metadata": {},
   "outputs": [
    {
     "data": {
      "text/plain": [
       "Text(0.5, 1.0, 'Overall distribution by salary')"
      ]
     },
     "execution_count": 13,
     "metadata": {},
     "output_type": "execute_result"
    },
    {
     "data": {
      "image/png": "[encoded data removed]",
      "text/plain": [
       "<Figure size 400x400 with 1 Axes>"
      ]
     },
     "metadata": {},
     "output_type": "display_data"
    }
   ],
   "source": [
    "# настроим область построения\n",
    "plt.rcdefaults()\n",
    "\n",
    "plt.rcParams['figure.figsize'] = (4, 4)\n",
    "\n",
    "fig, ax = plt.subplots()\n",
    "\n",
    "# настроим столбики\n",
    "bars = ax.bar(\n",
    "    x=df_ESI_salaries.salary.unique(),\n",
    "    height=df_ESI_salary_dist.count().department\n",
    ")\n",
    "\n",
    "# отформатируем вывод осей\n",
    "ax.spines['top'].set_visible(False)\n",
    "ax.spines['right'].set_visible(False)\n",
    "ax.spines['left'].set_visible(False)\n",
    "ax.spines['bottom'].set_color('#DDDDDD')\n",
    "ax.tick_params(bottom=False, left=False)\n",
    "ax.set_axisbelow(True)\n",
    "ax.yaxis.grid(True, color='#EEEEEE')\n",
    "ax.xaxis.grid(False)\n",
    "\n",
    "\n",
    "# добавим метки данных\n",
    "for bar in bars:\n",
    "    ax.text(\n",
    "        bar.get_x() + bar.get_width() / 2,\n",
    "        bar.get_height() -500,\n",
    "        bar.get_height(),\n",
    "        horizontalalignment='center',\n",
    "        color='#FFFFFF', # или bars[0].get_facecolor()\n",
    "        weight='bold'\n",
    "    )\n",
    "\n",
    "# добавим подписи элементов\n",
    "ax.set_xlabel('salary level', labelpad=15, color='#333333')\n",
    "ax.set_ylabel('headcount', labelpad=15, color='#333333')\n",
    "ax.set_title('Overall distribution by salary', pad=15, color='#333333', weight='bold')\n"
   ]
  },
  {
   "cell_type": "markdown",
   "id": "3a0c80a9",
   "metadata": {},
   "source": [
    "___\n",
    "## Задание 6\n",
    "Показать распределение сотрудников по зарплатам в каждом департаменте по отдельности "
   ]
  },
  {
   "cell_type": "code",
   "execution_count": 14,
   "id": "7cf79dda",
   "metadata": {},
   "outputs": [
    {
     "data": {
      "text/html": [
       "<div>\n",
       "<style scoped>\n",
       "    .dataframe tbody tr th:only-of-type {\n",
       "        vertical-align: middle;\n",
       "    }\n",
       "\n",
       "    .dataframe tbody tr th {\n",
       "        vertical-align: top;\n",
       "    }\n",
       "\n",
       "    .dataframe thead th {\n",
       "        text-align: right;\n",
       "    }\n",
       "</style>\n",
       "<table border=\"1\" class=\"dataframe\">\n",
       "  <thead>\n",
       "    <tr style=\"text-align: right;\">\n",
       "      <th></th>\n",
       "      <th>salary</th>\n",
       "      <th>department</th>\n",
       "      <th>value</th>\n",
       "    </tr>\n",
       "  </thead>\n",
       "  <tbody>\n",
       "    <tr>\n",
       "      <th>0</th>\n",
       "      <td>low</td>\n",
       "      <td>IT</td>\n",
       "      <td>609</td>\n",
       "    </tr>\n",
       "    <tr>\n",
       "      <th>1</th>\n",
       "      <td>low</td>\n",
       "      <td>RandD</td>\n",
       "      <td>364</td>\n",
       "    </tr>\n",
       "    <tr>\n",
       "      <th>2</th>\n",
       "      <td>low</td>\n",
       "      <td>accounting</td>\n",
       "      <td>358</td>\n",
       "    </tr>\n",
       "    <tr>\n",
       "      <th>3</th>\n",
       "      <td>low</td>\n",
       "      <td>hr</td>\n",
       "      <td>335</td>\n",
       "    </tr>\n",
       "    <tr>\n",
       "      <th>4</th>\n",
       "      <td>low</td>\n",
       "      <td>management</td>\n",
       "      <td>180</td>\n",
       "    </tr>\n",
       "  </tbody>\n",
       "</table>\n",
       "</div>"
      ],
      "text/plain": [
       "  salary  department  value\n",
       "0    low          IT    609\n",
       "1    low       RandD    364\n",
       "2    low  accounting    358\n",
       "3    low          hr    335\n",
       "4    low  management    180"
      ]
     },
     "execution_count": 14,
     "metadata": {},
     "output_type": "execute_result"
    }
   ],
   "source": [
    "# подготовим данные\n",
    "df_ESI_salaries_dist2 = df_ESI_salaries.groupby(\n",
    "    ['salary', 'department'])\\\n",
    "    .agg(value = ('salary', 'count'))\\\n",
    "    .reset_index()\n",
    "df_ESI_salaries_dist2.head() # проверка"
   ]
  },
  {
   "cell_type": "code",
   "execution_count": 15,
   "id": "396bac0f",
   "metadata": {},
   "outputs": [
    {
     "data": {
      "image/png": "[encoded data removed]",
      "text/plain": [
       "<Figure size 1343.12x900 with 10 Axes>"
      ]
     },
     "metadata": {},
     "output_type": "display_data"
    }
   ],
   "source": [
    "# настраиваем фасеты\n",
    "g = sns.FacetGrid(\n",
    "    df_ESI_salaries_dist2, \n",
    "    col='department', \n",
    "    palette=sns.color_palette(\"deep\"),\n",
    "    hue='department', \n",
    "    col_wrap=4, \n",
    ")\n",
    "\n",
    "# заполняем сетку диаграммами\n",
    "g = g.map(plt.barh, 'salary', 'value')\n",
    "g.add_legend()\n",
    " \n",
    "# добавим подписи\n",
    "g = g.set_axis_labels(\"Frequency\", \"Salary level\") \n",
    "\n",
    "# настраиваем заголовки в фасетах и в целом\n",
    "g = g.set_titles(\"{col_name}\")\n",
    "plt.subplots_adjust(top=0.92)\n",
    "g = g.fig.suptitle('Distribution of salaries by department', weight='bold')\n",
    "\n",
    "# выводим графики\n",
    "plt.show()"
   ]
  },
  {
   "cell_type": "markdown",
   "id": "a5133591",
   "metadata": {},
   "source": [
    "___\n",
    "## Задание 7\n",
    "Проверить гипотезу, что сотрудники с высоким окладом проводят на работе больше времени, чем сотрудники с низким окладом "
   ]
  },
  {
   "cell_type": "code",
   "execution_count": 16,
   "id": "fcb13ec7",
   "metadata": {},
   "outputs": [
    {
     "data": {
      "text/plain": [
       "<seaborn.axisgrid.FacetGrid at 0x1b84014ff10>"
      ]
     },
     "execution_count": 16,
     "metadata": {},
     "output_type": "execute_result"
    },
    {
     "data": {
      "image/png": "[encoded data removed]",
      "text/plain": [
       "<Figure size 607x500 with 1 Axes>"
      ]
     },
     "metadata": {},
     "output_type": "display_data"
    }
   ],
   "source": [
    "# посмотрим предварительно на обе выборки\n",
    "df_ESI_HT1 = df_ESI[['salary', 'average_montly_hours']]\\\n",
    "        .query(\"salary != 'medium'\")\n",
    "sns.displot(\n",
    "    df_ESI_HT1, \n",
    "    x=\"average_montly_hours\", \n",
    "    hue=\"salary\", \n",
    "    bins=20\n",
    ")\n"
   ]
  },
  {
   "cell_type": "markdown",
   "id": "69a10fe0",
   "metadata": {},
   "source": [
    "> **сформулируем гипотезы для теста**  \n",
    "H₀: среднее выборки сотрудников с высоким окладом (\"high\") \n",
    "    не превосходит среднего выборки с низким окладом (\"low\")   \n",
    "H₁: среднее выборки \"high\" больше среднего выборки \"low\"\n"
   ]
  },
  {
   "cell_type": "code",
   "execution_count": 17,
   "id": "35d3301c",
   "metadata": {},
   "outputs": [
    {
     "name": "stdout",
     "output_type": "stream",
     "text": [
      "Kolmogorov–Smirnov p-value (for low salaries):0.0000\n"
     ]
    }
   ],
   "source": [
    "# проверим предпосылку нормальности данных для выбора теста\n",
    "# используем критерий Колмогорова-Смирнова\n",
    "data = df_ESI_HT1.query(\"salary == 'low'\")['average_montly_hours']\n",
    "loc, scale = st.norm.fit(data)\n",
    "stat_value_low, p_value_low = st.kstest(\n",
    "    data, \n",
    "    st.norm(loc=loc, scale=scale).cdf\n",
    ")\n",
    "# print(p_value_low)\n",
    "print(\"Kolmogorov–Smirnov p-value (for low salaries):%.4f\" % p_value_low)"
   ]
  },
  {
   "cell_type": "code",
   "execution_count": 18,
   "id": "e88eaba0",
   "metadata": {},
   "outputs": [
    {
     "name": "stdout",
     "output_type": "stream",
     "text": [
      "Kolmogorov–Smirnov p-value (for high salaries):0.0001\n"
     ]
    }
   ],
   "source": [
    "data = df_ESI_HT1.query(\"salary == 'high'\")['average_montly_hours']\n",
    "loc, scale = st.norm.fit(data)\n",
    "stat_value_high, p_value_high = st.kstest(\n",
    "    data, \n",
    "    st.norm(loc=loc, scale=scale).cdf\n",
    ")\n",
    "# print(p_value_high)\n",
    "print(\"Kolmogorov–Smirnov p-value (for high salaries):%.4f\" % p_value_high)"
   ]
  },
  {
   "cell_type": "markdown",
   "id": "cf0d0cf8",
   "metadata": {},
   "source": [
    "Исходные данные в обеих выборках сильно отличаются от нормального распределения, поэтому для их сравнения нельзя использовать параметрический тест. Используем непараметрический эквивалент для несвязанных выборок: критерий Манна-Уитни. "
   ]
  },
  {
   "cell_type": "code",
   "execution_count": 19,
   "id": "71ce5bd3",
   "metadata": {},
   "outputs": [
    {
     "name": "stdout",
     "output_type": "stream",
     "text": [
      "p-value:0.5879\n"
     ]
    }
   ],
   "source": [
    "mwtest, pvalue = st.mannwhitneyu(\n",
    "    x=df_ESI_HT1.query(\"salary == 'high'\")['average_montly_hours'],\n",
    "    y=df_ESI_HT1.query(\"salary == 'low'\")['average_montly_hours'],\n",
    "    alternative=\"greater\"\n",
    ")\n",
    "print(\"p-value:%.4f\" % pvalue)"
   ]
  },
  {
   "cell_type": "markdown",
   "id": "1d8803b8",
   "metadata": {},
   "source": [
    "### Вывод: \n",
    "> согласно имеющимся данным, нулевая гипотеза **не может быть отвергнута** (вероятно, средние в категориях \"salary\" не отличаются либо отличаются в другую сторону).   \n",
    "Это означает, что нет оснований утверждать, будто сотрудники с высоким окладом проводят на работе больше времени, чем сотрудники с низким окладом. "
   ]
  },
  {
   "cell_type": "markdown",
   "id": "214ca6ce",
   "metadata": {},
   "source": [
    "___\n",
    "## Задание 8\n",
    "Рассчитать следующие показатели среди уволившихся и не уволившихся сотрудников (по отдельности): \n",
    "- Доля сотрудников с повышением за последние 5 лет \n",
    "- Средняя степень удовлетворенности \n",
    "- Среднее количество проектов "
   ]
  },
  {
   "cell_type": "code",
   "execution_count": 20,
   "id": "ef9fb4a5",
   "metadata": {},
   "outputs": [
    {
     "data": {
      "text/html": [
       "<div>\n",
       "<style scoped>\n",
       "    .dataframe tbody tr th:only-of-type {\n",
       "        vertical-align: middle;\n",
       "    }\n",
       "\n",
       "    .dataframe tbody tr th {\n",
       "        vertical-align: top;\n",
       "    }\n",
       "\n",
       "    .dataframe thead th {\n",
       "        text-align: right;\n",
       "    }\n",
       "</style>\n",
       "<table border=\"1\" class=\"dataframe\">\n",
       "  <thead>\n",
       "    <tr style=\"text-align: right;\">\n",
       "      <th></th>\n",
       "      <th>Доля сотрудников с повышением за последние 5 лет</th>\n",
       "      <th>Средняя степень удовлетворенности</th>\n",
       "      <th>Среднее количество проектов</th>\n",
       "    </tr>\n",
       "    <tr>\n",
       "      <th></th>\n",
       "      <th></th>\n",
       "      <th></th>\n",
       "      <th></th>\n",
       "    </tr>\n",
       "  </thead>\n",
       "  <tbody>\n",
       "    <tr>\n",
       "      <th>Работающие сотрудники</th>\n",
       "      <td>0.0263</td>\n",
       "      <td>0.6668</td>\n",
       "      <td>3.7867</td>\n",
       "    </tr>\n",
       "    <tr>\n",
       "      <th>Уволенные сотрудники</th>\n",
       "      <td>0.0053</td>\n",
       "      <td>0.4401</td>\n",
       "      <td>3.8555</td>\n",
       "    </tr>\n",
       "  </tbody>\n",
       "</table>\n",
       "</div>"
      ],
      "text/plain": [
       "                       Доля сотрудников с повышением за последние 5 лет  \\\n",
       "                                                                          \n",
       "Работающие сотрудники                                            0.0263   \n",
       "Уволенные сотрудники                                             0.0053   \n",
       "\n",
       "                       Средняя степень удовлетворенности  \\\n",
       "                                                           \n",
       "Работающие сотрудники                             0.6668   \n",
       "Уволенные сотрудники                              0.4401   \n",
       "\n",
       "                       Среднее количество проектов  \n",
       "                                                    \n",
       "Работающие сотрудники                       3.7867  \n",
       "Уволенные сотрудники                        3.8555  "
      ]
     },
     "execution_count": 20,
     "metadata": {},
     "output_type": "execute_result"
    }
   ],
   "source": [
    "# посчитаем долю к общему итогу кастомной функцией\n",
    "pct_promoted = lambda x: x.sum() / x.count() if x.count() else None\n",
    "# определим необходимые агрегации\n",
    "agg_func = {\n",
    "    'promotion_last_5years': [('Доля сотрудников с повышением за последние 5 лет', pct_promoted)],\n",
    "    'satisfaction_level': [('Средняя степень удовлетворенности', 'mean')],\n",
    "    'number_project': [('Среднее количество проектов', 'mean')]\n",
    "}\n",
    "df_ESI_stats = df_ESI.groupby('left').agg(agg_func).round(4)\n",
    "# отформатируем и выведем результат \n",
    "df_ESI_stats.rename(index={0:'Работающие сотрудники', 1:'Уволенные сотрудники'}, inplace=True)\n",
    "df_ESI_stats.columns = df_ESI_stats.columns.droplevel()\n",
    "df_ESI_stats.index.names = ['']\n",
    "df_ESI_stats"
   ]
  },
  {
   "cell_type": "markdown",
   "id": "ddd95ced",
   "metadata": {},
   "source": [
    "___\n",
    "## Задание 9\n",
    "Разделить данные на тестовую и обучающую выборки  \n",
    "Построить модель LDA, предсказывающую уволился ли сотрудник на основе имеющихся факторов (кроме department и salary)  \n",
    "Оценить качество модели на тестовой выборки "
   ]
  },
  {
   "cell_type": "code",
   "execution_count": 21,
   "id": "78ae9fde",
   "metadata": {},
   "outputs": [
    {
     "data": {
      "text/plain": [
       "(11249, 3750, 11249, 3750)"
      ]
     },
     "execution_count": 21,
     "metadata": {},
     "output_type": "execute_result"
    }
   ],
   "source": [
    "# разделяем выборки\n",
    "from sklearn.model_selection import train_test_split\n",
    "X_train, X_test, Y_train, Y_test = train_test_split(\n",
    "    df_ESI.loc[:, ~df_ESI.columns.isin(['left', 'department', 'salary'])], \n",
    "    df_ESI['left'], \n",
    "    random_state=42\n",
    ")\n",
    "# проверим пропорции\n",
    "len(X_train), len(X_test), len(Y_train), len(Y_test)"
   ]
  },
  {
   "cell_type": "code",
   "execution_count": 22,
   "id": "7edc252a",
   "metadata": {},
   "outputs": [
    {
     "data": {
      "text/plain": [
       "array([0, 0, 0, ..., 0, 1, 0], dtype=int64)"
      ]
     },
     "execution_count": 22,
     "metadata": {},
     "output_type": "execute_result"
    }
   ],
   "source": [
    "# построим модель LDA\n",
    "from sklearn.discriminant_analysis import LinearDiscriminantAnalysis\n",
    "lda = LinearDiscriminantAnalysis()\n",
    "lda.fit(X_train, Y_train)\n",
    "lda.predict(X_test) # вектор предсказанных значений"
   ]
  },
  {
   "cell_type": "code",
   "execution_count": 23,
   "id": "ceef92b3",
   "metadata": {},
   "outputs": [
    {
     "data": {
      "text/plain": [
       "0.7536"
      ]
     },
     "execution_count": 23,
     "metadata": {},
     "output_type": "execute_result"
    }
   ],
   "source": [
    "# оценим качество модели \n",
    "from sklearn.metrics import accuracy_score\n",
    "accuracy_score(Y_test, lda.predict(X_test))"
   ]
  },
  {
   "cell_type": "markdown",
   "id": "e234292f",
   "metadata": {},
   "source": [
    "### Вывод: \n",
    "линейная модель, обученная на имеющихся данных, ошибается приблизительно в 1 случае из 4. "
   ]
  }
 ],
 "metadata": {
  "kernelspec": {
   "display_name": "Python 3 (ipykernel)",
   "language": "python",
   "name": "python3"
  },
  "language_info": {
   "codemirror_mode": {
    "name": "ipython",
    "version": 3
   },
   "file_extension": ".py",
   "mimetype": "text/x-python",
   "name": "python",
   "nbconvert_exporter": "python",
   "pygments_lexer": "ipython3",
   "version": "3.9.13"
  }
 },
 "nbformat": 4,
 "nbformat_minor": 5
}
